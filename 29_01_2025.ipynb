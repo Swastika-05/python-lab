{
  "nbformat": 4,
  "nbformat_minor": 0,
  "metadata": {
    "colab": {
      "provenance": [],
      "authorship_tag": "ABX9TyPNJQynvNAgWrglL918eIIp",
      "include_colab_link": true
    },
    "kernelspec": {
      "name": "python3",
      "display_name": "Python 3"
    },
    "language_info": {
      "name": "python"
    }
  },
  "cells": [
    {
      "cell_type": "markdown",
      "metadata": {
        "id": "view-in-github",
        "colab_type": "text"
      },
      "source": [
        "<a href=\"https://colab.research.google.com/github/Swastika-05/python-lab/blob/main/29_01_2025.ipynb\" target=\"_parent\"><img src=\"https://colab.research.google.com/assets/colab-badge.svg\" alt=\"Open In Colab\"/></a>"
      ]
    },
    {
      "cell_type": "code",
      "execution_count": null,
      "metadata": {
        "id": "2QRo1mW_aOqW"
      },
      "outputs": [],
      "source": [
        "#List\n",
        "#l1 = [ ]\n",
        "l1=[1 ,2 ,3 ,4 ,5]\n",
        "#    0  1  2  3  4\n",
        "#   -5 -4 -3 -2 -1\n",
        "print(l1(-3))\n",
        "#print(l1[2:]) ==> 3 4 5\n",
        "#print(l1[start : stop : step size])\n",
        "#print(l1[2:3]) ==> 3\n",
        "#print(l1[ ::-1]) prints the list in reverse order\n",
        "#Adding elements to list\n",
        "#l1.append() ==> adds element to the last\n",
        "l1.append(30)\n",
        "#l1.insert() ==> adds element to a particular index\n",
        "l1.insert([2,10])\n",
        "#li.extend() ==> adds multiple elements\n",
        "l1.extend([10,20,30])\n",
        "#Deleting elements from list\n",
        "#l1.remove() ==> removes single element from list if multiple same elements are present\n",
        "l1.remove(10)\n",
        "#l1.pop() ==> removes element from a particular index\n",
        "l1.pop(2)\n",
        "#l1.del[] ==> deletes multiple elements\n",
        "del l1[]\n",
        "#1D list"
      ]
    },
    {
      "cell_type": "markdown",
      "source": [
        "Write a program to add elements using append, insert and extend"
      ],
      "metadata": {
        "id": "l1JlH6o0cAbA"
      }
    },
    {
      "cell_type": "code",
      "source": [
        "l2=[1,\"Swastika\"]\n",
        "print(\"Adding elements:\")\n",
        "print(l2)\n",
        "l2.append(\"Nethra\")\n",
        "print(l2)\n",
        "l2.insert(1,10)\n",
        "print(l2)\n",
        "l2.extend([\"Nivi\",30])\n",
        "print(l2)\n",
        "print(\"Removing elements:\")\n",
        "l2.remove(10)\n",
        "print(l2)\n",
        "l2.pop(2)\n",
        "print(l2)\n",
        "del l2[1]\n",
        "print(l2)\n",
        "print(\"Updating elements:\")\n",
        "#l2.update(0,24)\n",
        "\n"
      ],
      "metadata": {
        "colab": {
          "base_uri": "https://localhost:8080/"
        },
        "id": "fXIUsvulb-cp",
        "outputId": "b74425b6-5df0-4543-e829-534a4fd6f161"
      },
      "execution_count": 14,
      "outputs": [
        {
          "output_type": "stream",
          "name": "stdout",
          "text": [
            "Adding elements:\n",
            "[1, 'Swastika']\n",
            "[1, 'Swastika', 'Nethra']\n",
            "[1, 10, 'Swastika', 'Nethra']\n",
            "[1, 10, 'Swastika', 'Nethra', 'Nivi', 30]\n",
            "Removing elements:\n",
            "[1, 'Swastika', 'Nethra', 'Nivi', 30]\n",
            "[1, 'Swastika', 'Nivi', 30]\n",
            "[1, 'Nivi', 30]\n",
            "Updating elements:\n"
          ]
        }
      ]
    }
  ]
}