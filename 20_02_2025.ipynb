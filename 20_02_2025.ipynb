{
  "nbformat": 4,
  "nbformat_minor": 0,
  "metadata": {
    "colab": {
      "provenance": [],
      "authorship_tag": "ABX9TyN8MWMcDOKOMEKa1q/MhbQq",
      "include_colab_link": true
    },
    "kernelspec": {
      "name": "python3",
      "display_name": "Python 3"
    },
    "language_info": {
      "name": "python"
    }
  },
  "cells": [
    {
      "cell_type": "markdown",
      "metadata": {
        "id": "view-in-github",
        "colab_type": "text"
      },
      "source": [
        "<a href=\"https://colab.research.google.com/github/Swastika-05/python-lab/blob/main/20_02_2025.ipynb\" target=\"_parent\"><img src=\"https://colab.research.google.com/assets/colab-badge.svg\" alt=\"Open In Colab\"/></a>"
      ]
    },
    {
      "cell_type": "markdown",
      "source": [
        "*args --> when we dont know how many arguments are to be passed"
      ],
      "metadata": {
        "id": "O0b7xJlZPj9E"
      }
    },
    {
      "cell_type": "code",
      "source": [
        "def fun(*args):          # any arguments except dictionary\n",
        "  return sum(args)      #inbuilt function sum\n",
        "\n",
        "print(fun(1,2,3,4,5))\n",
        "\n",
        "L1=[1,2,5,8,11]\n",
        "L2=[3,6]\n",
        "print(fun(*L1))\n",
        "print(fun(*L1,*L2))\n",
        "\n",
        "T1=(5,9,8,6)\n",
        "T2=(1,5,11,9)\n",
        "\n",
        "print(fun(*T1,*T2))"
      ],
      "metadata": {
        "colab": {
          "base_uri": "https://localhost:8080/"
        },
        "id": "r61RlHfNP8vU",
        "outputId": "6a2fcf88-6cab-47eb-ee59-9fd819db9c61"
      },
      "execution_count": 5,
      "outputs": [
        {
          "output_type": "stream",
          "name": "stdout",
          "text": [
            "15\n",
            "27\n",
            "36\n",
            "54\n"
          ]
        }
      ]
    },
    {
      "cell_type": "code",
      "source": [
        "def fun(*args,c):\n",
        "  return sum(args,c)\n",
        "d=30\n",
        "print(fun(1,2,d))"
      ],
      "metadata": {
        "colab": {
          "base_uri": "https://localhost:8080/",
          "height": 183
        },
        "id": "4CeBHCisQ5hb",
        "outputId": "d0f08850-eab3-4c17-ff91-0047e9f6843c"
      },
      "execution_count": 7,
      "outputs": [
        {
          "output_type": "error",
          "ename": "TypeError",
          "evalue": "fun() missing 1 required keyword-only argument: 'c'",
          "traceback": [
            "\u001b[0;31m---------------------------------------------------------------------------\u001b[0m",
            "\u001b[0;31mTypeError\u001b[0m                                 Traceback (most recent call last)",
            "\u001b[0;32m<ipython-input-7-ca8339ac970d>\u001b[0m in \u001b[0;36m<cell line: 0>\u001b[0;34m()\u001b[0m\n\u001b[1;32m      2\u001b[0m   \u001b[0;32mreturn\u001b[0m \u001b[0msum\u001b[0m\u001b[0;34m(\u001b[0m\u001b[0margs\u001b[0m\u001b[0;34m,\u001b[0m\u001b[0mc\u001b[0m\u001b[0;34m)\u001b[0m\u001b[0;34m\u001b[0m\u001b[0;34m\u001b[0m\u001b[0m\n\u001b[1;32m      3\u001b[0m \u001b[0md\u001b[0m\u001b[0;34m=\u001b[0m\u001b[0;36m30\u001b[0m\u001b[0;34m\u001b[0m\u001b[0;34m\u001b[0m\u001b[0m\n\u001b[0;32m----> 4\u001b[0;31m \u001b[0mprint\u001b[0m\u001b[0;34m(\u001b[0m\u001b[0mfun\u001b[0m\u001b[0;34m(\u001b[0m\u001b[0;36m1\u001b[0m\u001b[0;34m,\u001b[0m\u001b[0;36m2\u001b[0m\u001b[0;34m,\u001b[0m\u001b[0md\u001b[0m\u001b[0;34m)\u001b[0m\u001b[0;34m)\u001b[0m\u001b[0;34m\u001b[0m\u001b[0;34m\u001b[0m\u001b[0m\n\u001b[0m",
            "\u001b[0;31mTypeError\u001b[0m: fun() missing 1 required keyword-only argument: 'c'"
          ]
        }
      ]
    },
    {
      "cell_type": "code",
      "source": [
        "def bio_data(**kwargs):\n",
        "  for key,value in kwargs.items():\n",
        "    print(key,value)              #we can use format function here\n",
        "#dict_1={....}\n",
        "bio_data(Name ='Swastika',SAP_ID='590012371',Age='19') #bio_data(**dict_1)\n"
      ],
      "metadata": {
        "colab": {
          "base_uri": "https://localhost:8080/"
        },
        "id": "To6j4cQqTBwF",
        "outputId": "35e3b082-0fc9-41d5-968c-dcf9329cdde6"
      },
      "execution_count": 14,
      "outputs": [
        {
          "output_type": "stream",
          "name": "stdout",
          "text": [
            "Name Swastika\n",
            "SAP_ID 590012371\n",
            "Age 19\n"
          ]
        }
      ]
    },
    {
      "cell_type": "markdown",
      "source": [
        "difference between * and ** operator"
      ],
      "metadata": {
        "id": "VgwceV46VXus"
      }
    },
    {
      "cell_type": "markdown",
      "source": [
        "WAP to take values from a list and store them in a dictionary using functions args and kwargs"
      ],
      "metadata": {
        "id": "0k7onYIbVcFW"
      }
    },
    {
      "cell_type": "code",
      "source": [
        "L1=['Swastika',590012371,19]\n",
        "dict_1={}\n",
        "\n",
        "def fun(*args,**kwargs):\n"
      ],
      "metadata": {
        "id": "RkzbvGcMVrlt"
      },
      "execution_count": 13,
      "outputs": []
    }
  ]
}