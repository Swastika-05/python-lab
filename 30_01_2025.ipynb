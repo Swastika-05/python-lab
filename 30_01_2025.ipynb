{
  "nbformat": 4,
  "nbformat_minor": 0,
  "metadata": {
    "colab": {
      "provenance": [],
      "authorship_tag": "ABX9TyMb7s+HATvxZdO3oHsivI9p",
      "include_colab_link": true
    },
    "kernelspec": {
      "name": "python3",
      "display_name": "Python 3"
    },
    "language_info": {
      "name": "python"
    }
  },
  "cells": [
    {
      "cell_type": "markdown",
      "metadata": {
        "id": "view-in-github",
        "colab_type": "text"
      },
      "source": [
        "<a href=\"https://colab.research.google.com/github/Swastika-05/python-lab/blob/main/30_01_2025.ipynb\" target=\"_parent\"><img src=\"https://colab.research.google.com/assets/colab-badge.svg\" alt=\"Open In Colab\"/></a>"
      ]
    },
    {
      "cell_type": "markdown",
      "source": [
        "**List**"
      ],
      "metadata": {
        "id": "-4tPXXFpFidG"
      }
    },
    {
      "cell_type": "code",
      "execution_count": 5,
      "metadata": {
        "colab": {
          "base_uri": "https://localhost:8080/"
        },
        "id": "GZPmMLTOFSzX",
        "outputId": "99d3a7eb-177f-45c9-fa2e-8637816b3187"
      },
      "outputs": [
        {
          "output_type": "stream",
          "name": "stdout",
          "text": [
            "[0, 0, 1, 1, 2, 3, 3, 6, 4, 10, 5, 15, 6, 21, 7, 28, 8, 36, 9, 45, 10, 55]\n",
            "[0, 0, 1, 1, 2, 3, 3, 6, 4, 10, 5, 15, 6, 21, 7, 28, 8, 36, 9, 45, 10, 55, 55]\n"
          ]
        }
      ],
      "source": [
        "l1=[]\n",
        "sum=0\n",
        "for i in range(11):\n",
        "  l1.append(i)\n",
        "  sum+=i\n",
        "  l1.append(sum)\n",
        "print(l1)\n",
        "l1.append(sum)\n",
        "print(l1)\n"
      ]
    },
    {
      "cell_type": "markdown",
      "source": [
        "Write a program to calculate the squares of each element between the range\n",
        "\n",
        "\n"
      ],
      "metadata": {
        "id": "p9TO4qO-HJS0"
      }
    },
    {
      "cell_type": "code",
      "source": [
        "l1=[]\n",
        "sum=0\n",
        "for i in range(50):\n",
        "  l1.append(i)\n",
        "  l1.append(i**2) #l1.append(pow(i,2))\n",
        "print(l1)\n"
      ],
      "metadata": {
        "colab": {
          "base_uri": "https://localhost:8080/"
        },
        "id": "ZK0eQD4nHcC-",
        "outputId": "9acc7889-ea71-47fb-ddaf-70832abc2a89"
      },
      "execution_count": 7,
      "outputs": [
        {
          "output_type": "stream",
          "name": "stdout",
          "text": [
            "[0, 0, 1, 1, 2, 4, 3, 9, 4, 16, 5, 25, 6, 36, 7, 49, 8, 64, 9, 81, 10, 100, 11, 121, 12, 144, 13, 169, 14, 196, 15, 225, 16, 256, 17, 289, 18, 324, 19, 361, 20, 400, 21, 441, 22, 484, 23, 529, 24, 576, 25, 625, 26, 676, 27, 729, 28, 784, 29, 841, 30, 900, 31, 961, 32, 1024, 33, 1089, 34, 1156, 35, 1225, 36, 1296, 37, 1369, 38, 1444, 39, 1521, 40, 1600, 41, 1681, 42, 1764, 43, 1849, 44, 1936, 45, 2025, 46, 2116, 47, 2209, 48, 2304, 49, 2401]\n"
          ]
        }
      ]
    },
    {
      "cell_type": "markdown",
      "source": [
        "List within a list\n",
        "\n",
        "l2 = [1 ,2 ,\"Abc\" ,6.5 ,[5,8,\"c\"] ,6 ,9 ,0.0 ,True]\n",
        "\n",
        "l3=l2\n",
        "\n",
        "enumerate ==> prints\n"
      ],
      "metadata": {
        "id": "Uj2J7fa6IlyH"
      }
    },
    {
      "cell_type": "code",
      "source": [
        "l1=[1,2,3,5,12,14]\n",
        "\n",
        "for i, Index in enumerate(l1):\n",
        "  print(Index,\"is at index no.\",i)"
      ],
      "metadata": {
        "colab": {
          "base_uri": "https://localhost:8080/"
        },
        "id": "Zzxfj3btJfn9",
        "outputId": "5fa805b3-3dd0-4084-9bc6-94667ec7adf4"
      },
      "execution_count": 9,
      "outputs": [
        {
          "output_type": "stream",
          "name": "stdout",
          "text": [
            "1 is at index no. 0\n",
            "2 is at index no. 1\n",
            "3 is at index no. 2\n",
            "5 is at index no. 3\n",
            "12 is at index no. 4\n",
            "14 is at index no. 5\n"
          ]
        }
      ]
    },
    {
      "cell_type": "code",
      "source": [
        "l1=[1,2,3,5,12,14]\n",
        "\n",
        "for i in range(len(l1)):\n",
        "  print(l1[i],\"is present at index no.\",i)"
      ],
      "metadata": {
        "colab": {
          "base_uri": "https://localhost:8080/"
        },
        "id": "C5f4-m1yKHp0",
        "outputId": "643b018c-ca0b-4ba3-f0d1-b406f4d3cc4f"
      },
      "execution_count": 13,
      "outputs": [
        {
          "output_type": "stream",
          "name": "stdout",
          "text": [
            "1 is present at index no. 0\n",
            "2 is present at index no. 1\n",
            "3 is present at index no. 2\n",
            "5 is present at index no. 3\n",
            "12 is present at index no. 4\n",
            "14 is present at index no. 5\n"
          ]
        }
      ]
    },
    {
      "cell_type": "markdown",
      "source": [
        "for i in range (20, 1000) # from 20 to 999\n",
        "\n",
        "Armstrong Number"
      ],
      "metadata": {
        "id": "6gxWBwwuLLPe"
      }
    },
    {
      "cell_type": "code",
      "source": [
        "l2=[]\n",
        "for i in range(20,1000):"
      ],
      "metadata": {
        "id": "Qp_FXHJqK64w"
      },
      "execution_count": null,
      "outputs": []
    },
    {
      "cell_type": "markdown",
      "source": [
        "Inbuilt function\n",
        "\n",
        "tuple()\n",
        "\n",
        "T1=(1,2,3,\"Abc\",'A',True,7)\n",
        "\n",
        "It is inmutable i.e, insertion and deletion of elements are not allowed\n",
        "\n",
        "\n",
        "\n"
      ],
      "metadata": {
        "id": "2hHnCrv3MqtS"
      }
    },
    {
      "cell_type": "code",
      "source": [
        "T1=(1,2,3,\"Abc\",'A',True,7)\n",
        "T2=(5,8,9)\n",
        "print(type(T1))\n",
        "T3=T1+T2\n",
        "print(T3)\n",
        "T3=T3*2\n",
        "print(T3)\n",
        "print(T1[:])\n",
        "print(T1[::])\n",
        "print(T1[::-2])"
      ],
      "metadata": {
        "colab": {
          "base_uri": "https://localhost:8080/"
        },
        "id": "LvwpBf_jMwm-",
        "outputId": "d8c4da3b-e441-47b7-8d37-b24311689b1a"
      },
      "execution_count": 21,
      "outputs": [
        {
          "output_type": "stream",
          "name": "stdout",
          "text": [
            "<class 'tuple'>\n",
            "(1, 2, 3, 'Abc', 'A', True, 7, 5, 8, 9)\n",
            "(1, 2, 3, 'Abc', 'A', True, 7, 5, 8, 9, 1, 2, 3, 'Abc', 'A', True, 7, 5, 8, 9)\n",
            "(1, 2, 3, 'Abc', 'A', True, 7)\n",
            "(1, 2, 3, 'Abc', 'A', True, 7)\n",
            "(7, 'A', 3, 1)\n"
          ]
        }
      ]
    }
  ]
}