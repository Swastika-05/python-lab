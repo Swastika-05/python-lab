{
  "nbformat": 4,
  "nbformat_minor": 0,
  "metadata": {
    "colab": {
      "provenance": [],
      "authorship_tag": "ABX9TyMjyncU5+jFoUVbix/Z7jFy",
      "include_colab_link": true
    },
    "kernelspec": {
      "name": "python3",
      "display_name": "Python 3"
    },
    "language_info": {
      "name": "python"
    }
  },
  "cells": [
    {
      "cell_type": "markdown",
      "metadata": {
        "id": "view-in-github",
        "colab_type": "text"
      },
      "source": [
        "<a href=\"https://colab.research.google.com/github/Swastika-05/python-lab/blob/main/Chapter_1.ipynb\" target=\"_parent\"><img src=\"https://colab.research.google.com/assets/colab-badge.svg\" alt=\"Open In Colab\"/></a>"
      ]
    },
    {
      "cell_type": "code",
      "execution_count": null,
      "metadata": {
        "colab": {
          "base_uri": "https://localhost:8080/"
        },
        "id": "y1iHJ1bl7vVO",
        "outputId": "6194dd2f-6569-43fd-9cd3-32a69877a6e4"
      },
      "outputs": [
        {
          "output_type": "stream",
          "name": "stdout",
          "text": [
            "Hello World\n"
          ]
        }
      ],
      "source": [
        "print (\"Hello World\")"
      ]
    },
    {
      "cell_type": "code",
      "source": [
        "a = 2\n",
        "b = 2\n",
        "if(a>b):\n",
        "  print(\"a is greater than b\")\n",
        "else:\n",
        "  print(\"b is greater than a\")"
      ],
      "metadata": {
        "colab": {
          "base_uri": "https://localhost:8080/"
        },
        "id": "FFihAmaS8dsP",
        "outputId": "bf034540-9f95-4019-d261-ab5de5374022"
      },
      "execution_count": null,
      "outputs": [
        {
          "output_type": "stream",
          "name": "stdout",
          "text": [
            "b is greater than a\n"
          ]
        }
      ]
    },
    {
      "cell_type": "code",
      "source": [
        "a = 2\n",
        "b = 3\n",
        "c = 4\n",
        "if(a>b):\n",
        "  print(f\"{a} is greater than b\")\n",
        "else:\n",
        "  print(f\"{b} is greater than a\")\n"
      ],
      "metadata": {
        "id": "BlbfV5Y-ATr2"
      },
      "execution_count": null,
      "outputs": []
    },
    {
      "cell_type": "code",
      "source": [
        "a = 2\n",
        "b = 3\n",
        "c = 4\n",
        "if(a>b):\n",
        "  print(\"a is greater than b\")\n",
        "elif()\n",
        "else:\n",
        "  print(\"b is greater than a\")"
      ],
      "metadata": {
        "id": "EG3ggCTlB3Fh"
      },
      "execution_count": null,
      "outputs": []
    },
    {
      "cell_type": "code",
      "source": [
        "money = 5000\n",
        "\n",
        "if(money==5000):\n",
        "  print(\"Movie and Restaurant\")\n",
        "elif(money<=3000 and money>1000):\n",
        "  print(\"Movie\")\n",
        "elif(money<=1000):\n",
        "  print(\"Restaurant\")"
      ],
      "metadata": {
        "colab": {
          "base_uri": "https://localhost:8080/"
        },
        "id": "cIVLCFHFCJay",
        "outputId": "da6fe001-0404-411d-f7a6-1536fc320dfa"
      },
      "execution_count": null,
      "outputs": [
        {
          "output_type": "stream",
          "name": "stdout",
          "text": [
            "Restaurant\n"
          ]
        }
      ]
    },
    {
      "cell_type": "code",
      "source": [
        "a = input(\"Enter the number:\")\n",
        "\n",
        "print(a);\n",
        "\n",
        "print(type(a))\n"
      ],
      "metadata": {
        "colab": {
          "base_uri": "https://localhost:8080/"
        },
        "id": "meHMR8HTC7Cx",
        "outputId": "db78587d-c925-414a-bf1a-deb784858015"
      },
      "execution_count": null,
      "outputs": [
        {
          "output_type": "stream",
          "name": "stdout",
          "text": [
            "Enter the number:5\n",
            "5\n",
            "<class 'str'>\n"
          ]
        }
      ]
    },
    {
      "cell_type": "code",
      "source": [
        "for i in range(10):\n",
        "  print(i)"
      ],
      "metadata": {
        "colab": {
          "base_uri": "https://localhost:8080/"
        },
        "id": "ZFIkUiDEFBIf",
        "outputId": "dce867fe-02c4-4805-aecc-863f4f16a2c8"
      },
      "execution_count": null,
      "outputs": [
        {
          "output_type": "stream",
          "name": "stdout",
          "text": [
            "0\n",
            "1\n",
            "2\n",
            "3\n",
            "4\n",
            "5\n",
            "6\n",
            "7\n",
            "8\n",
            "9\n"
          ]
        }
      ]
    },
    {
      "cell_type": "code",
      "source": [
        "print(i)"
      ],
      "metadata": {
        "colab": {
          "base_uri": "https://localhost:8080/"
        },
        "id": "L797pC_OGOs4",
        "outputId": "ebcfd2e0-874e-4f15-b470-5e5da31462dc"
      },
      "execution_count": null,
      "outputs": [
        {
          "output_type": "stream",
          "name": "stdout",
          "text": [
            "9\n"
          ]
        }
      ]
    },
    {
      "cell_type": "code",
      "source": [
        "a=10\n",
        "while(a>0):\n",
        "  print(a)\n",
        "  a=a-1"
      ],
      "metadata": {
        "colab": {
          "base_uri": "https://localhost:8080/"
        },
        "id": "opt4tjlgGqZl",
        "outputId": "ff1dc48c-6c29-4b9c-bb9b-93acd10ac933"
      },
      "execution_count": null,
      "outputs": [
        {
          "output_type": "stream",
          "name": "stdout",
          "text": [
            "10\n",
            "9\n",
            "8\n",
            "7\n",
            "6\n",
            "5\n",
            "4\n",
            "3\n",
            "2\n",
            "1\n"
          ]
        }
      ]
    },
    {
      "cell_type": "markdown",
      "source": [
        "**Keywords and Identifiers**"
      ],
      "metadata": {
        "id": "WE7KknmGMBbX"
      }
    },
    {
      "cell_type": "code",
      "source": [
        "import keyword\n",
        "\n",
        "print(keyword.kwlist)"
      ],
      "metadata": {
        "id": "sZ-G3ImIG-2Z",
        "colab": {
          "base_uri": "https://localhost:8080/"
        },
        "outputId": "2b9c0954-f384-49bc-b496-40b800a0ebe3"
      },
      "execution_count": null,
      "outputs": [
        {
          "output_type": "stream",
          "name": "stdout",
          "text": [
            "['False', 'None', 'True', 'and', 'as', 'assert', 'async', 'await', 'break', 'class', 'continue', 'def', 'del', 'elif', 'else', 'except', 'finally', 'for', 'from', 'global', 'if', 'import', 'in', 'is', 'lambda', 'nonlocal', 'not', 'or', 'pass', 'raise', 'return', 'try', 'while', 'with', 'yield']\n"
          ]
        }
      ]
    },
    {
      "cell_type": "code",
      "source": [
        "a = \"hello\"\\\n",
        "    \"world\"\\\n",
        "    \"!\"\n",
        "print(a)\n",
        "\n",
        "\n",
        "\n"
      ],
      "metadata": {
        "colab": {
          "base_uri": "https://localhost:8080/"
        },
        "id": "Jp5gnrlYNalx",
        "outputId": "a37f89d3-d43c-4bc1-f94b-9164e1f39be2"
      },
      "execution_count": null,
      "outputs": [
        {
          "output_type": "stream",
          "name": "stdout",
          "text": [
            "helloworld!\n"
          ]
        }
      ]
    },
    {
      "cell_type": "code",
      "source": [
        "v=['a',\n",
        "'e',\n",
        "'i',\n",
        "'o',\n",
        "'u']\n",
        "\n",
        "print(v)\n"
      ],
      "metadata": {
        "colab": {
          "base_uri": "https://localhost:8080/"
        },
        "id": "sQztm4-zPcAO",
        "outputId": "01643a67-29d1-4353-8df6-e5e07eff0f42"
      },
      "execution_count": null,
      "outputs": [
        {
          "output_type": "stream",
          "name": "stdout",
          "text": [
            "['a', 'e', 'i', 'o', 'u']\n"
          ]
        }
      ]
    },
    {
      "cell_type": "code",
      "source": [
        "mystr=\"'Hello my name is Swastika' \\n and 'I am a student'\"\n",
        "print(mystr)"
      ],
      "metadata": {
        "colab": {
          "base_uri": "https://localhost:8080/"
        },
        "id": "OdGZjag2P9TD",
        "outputId": "efdc0452-5988-4ae0-e103-53af8f4903f7"
      },
      "execution_count": null,
      "outputs": [
        {
          "output_type": "stream",
          "name": "stdout",
          "text": [
            "'Hello my name is Swastika' \n",
            " and 'I am a student'\n"
          ]
        }
      ]
    },
    {
      "cell_type": "code",
      "source": [
        "n1=input(\"Enter the first no.:\")\n",
        "n2=input(\"Enter the second no.:\")\n",
        "sum= int(n1)+ int(n2)\n",
        "sum"
      ],
      "metadata": {
        "colab": {
          "base_uri": "https://localhost:8080/"
        },
        "id": "NDd34cFIRHCL",
        "outputId": "15957424-251c-4e73-8fc6-4dc653c34b49"
      },
      "execution_count": null,
      "outputs": [
        {
          "name": "stdout",
          "output_type": "stream",
          "text": [
            "Enter the first no.:10\n",
            "Enter the second no.:20\n"
          ]
        },
        {
          "output_type": "execute_result",
          "data": {
            "text/plain": [
              "30"
            ]
          },
          "metadata": {},
          "execution_count": 11
        }
      ]
    },
    {
      "cell_type": "code",
      "source": [
        "n1=int(input(\"Enter the first no.:\"))\n",
        "n2=int(input(\"Enter the second no.:\"))\n",
        "sum= n1+n2\n",
        "sum"
      ],
      "metadata": {
        "colab": {
          "base_uri": "https://localhost:8080/"
        },
        "id": "SM00gCtTSAjf",
        "outputId": "ebec8353-5f32-4069-b5cb-06b8c71c9511"
      },
      "execution_count": null,
      "outputs": [
        {
          "name": "stdout",
          "output_type": "stream",
          "text": [
            "Enter the first no.:10\n",
            "Enter the second no.:20\n"
          ]
        },
        {
          "output_type": "execute_result",
          "data": {
            "text/plain": [
              "30"
            ]
          },
          "metadata": {},
          "execution_count": 12
        }
      ]
    },
    {
      "cell_type": "code",
      "source": [
        "n1=float(input(\"Enter the first no.:\"))\n",
        "n2=float(input(\"Enter the second no.:\"))\n",
        "sum= n1*n2\n",
        "sum"
      ],
      "metadata": {
        "colab": {
          "base_uri": "https://localhost:8080/"
        },
        "id": "loZGObF-SONu",
        "outputId": "296bbdf7-40ac-46bb-e585-f1f35c12c32b"
      },
      "execution_count": null,
      "outputs": [
        {
          "name": "stdout",
          "output_type": "stream",
          "text": [
            "Enter the first no.:10\n",
            "Enter the second no.:20\n"
          ]
        },
        {
          "output_type": "execute_result",
          "data": {
            "text/plain": [
              "200.0"
            ]
          },
          "metadata": {},
          "execution_count": 14
        }
      ]
    },
    {
      "cell_type": "code",
      "source": [
        "n1=float(input(\"Enter the first no.:\"))     #type conversion\n",
        "n2=float(input(\"Enter the second no.:\"))\n",
        "sum= n1+n2\n",
        "sum"
      ],
      "metadata": {
        "colab": {
          "base_uri": "https://localhost:8080/"
        },
        "id": "dIE5J8BlSdE-",
        "outputId": "0e2ca464-07df-4991-d048-530a76b9b87e"
      },
      "execution_count": null,
      "outputs": [
        {
          "name": "stdout",
          "output_type": "stream",
          "text": [
            "Enter the first no.:10\n",
            "Enter the second no.:20\n"
          ]
        },
        {
          "output_type": "execute_result",
          "data": {
            "text/plain": [
              "30.0"
            ]
          },
          "metadata": {},
          "execution_count": 16
        }
      ]
    },
    {
      "cell_type": "code",
      "source": [
        "n1=float(input(\"Enter the first no.:\"))     #type conversion\n",
        "n2=int(input(\"Enter the second no.:\"))\n",
        "sum= n1+n2\n",
        "sum"
      ],
      "metadata": {
        "colab": {
          "base_uri": "https://localhost:8080/"
        },
        "id": "NiFfSteAS8PD",
        "outputId": "02224da4-e5e0-4a87-9fa2-5619133185b0"
      },
      "execution_count": null,
      "outputs": [
        {
          "name": "stdout",
          "output_type": "stream",
          "text": [
            "Enter the first no.:10\n",
            "Enter the second no.:20\n"
          ]
        },
        {
          "output_type": "execute_result",
          "data": {
            "text/plain": [
              "30.0"
            ]
          },
          "metadata": {},
          "execution_count": 17
        }
      ]
    },
    {
      "cell_type": "code",
      "source": [
        "n1=float(input(\"Enter the first no.:\"))     #type conversion\n",
        "n2=input(\"Enter the second no.:\")\n",
        "sum= n1+n2\n",
        "sum"
      ],
      "metadata": {
        "colab": {
          "base_uri": "https://localhost:8080/",
          "height": 238
        },
        "id": "CrYPYoklTJ8X",
        "outputId": "8cb04e6e-f940-4bda-efa2-9c65bb72028d"
      },
      "execution_count": null,
      "outputs": [
        {
          "name": "stdout",
          "output_type": "stream",
          "text": [
            "Enter the first no.:10\n",
            "Enter the second no.:20\n"
          ]
        },
        {
          "output_type": "error",
          "ename": "TypeError",
          "evalue": "unsupported operand type(s) for +: 'float' and 'str'",
          "traceback": [
            "\u001b[0;31m---------------------------------------------------------------------------\u001b[0m",
            "\u001b[0;31mTypeError\u001b[0m                                 Traceback (most recent call last)",
            "\u001b[0;32m<ipython-input-18-cae95e20e712>\u001b[0m in \u001b[0;36m<cell line: 3>\u001b[0;34m()\u001b[0m\n\u001b[1;32m      1\u001b[0m \u001b[0mn1\u001b[0m\u001b[0;34m=\u001b[0m\u001b[0mfloat\u001b[0m\u001b[0;34m(\u001b[0m\u001b[0minput\u001b[0m\u001b[0;34m(\u001b[0m\u001b[0;34m\"Enter the first no.:\"\u001b[0m\u001b[0;34m)\u001b[0m\u001b[0;34m)\u001b[0m     \u001b[0;31m#type conversion\u001b[0m\u001b[0;34m\u001b[0m\u001b[0;34m\u001b[0m\u001b[0m\n\u001b[1;32m      2\u001b[0m \u001b[0mn2\u001b[0m\u001b[0;34m=\u001b[0m\u001b[0minput\u001b[0m\u001b[0;34m(\u001b[0m\u001b[0;34m\"Enter the second no.:\"\u001b[0m\u001b[0;34m)\u001b[0m\u001b[0;34m\u001b[0m\u001b[0;34m\u001b[0m\u001b[0m\n\u001b[0;32m----> 3\u001b[0;31m \u001b[0msum\u001b[0m\u001b[0;34m=\u001b[0m \u001b[0mn1\u001b[0m\u001b[0;34m+\u001b[0m\u001b[0mn2\u001b[0m\u001b[0;34m\u001b[0m\u001b[0;34m\u001b[0m\u001b[0m\n\u001b[0m\u001b[1;32m      4\u001b[0m \u001b[0msum\u001b[0m\u001b[0;34m\u001b[0m\u001b[0;34m\u001b[0m\u001b[0m\n",
            "\u001b[0;31mTypeError\u001b[0m: unsupported operand type(s) for +: 'float' and 'str'"
          ]
        }
      ]
    },
    {
      "cell_type": "code",
      "source": [
        "a=17\n",
        "b=3\n",
        "\n",
        "print(a+b)\n",
        "print(a-b)\n",
        "print(a*b)\n",
        "print(a/b)\n",
        "print(a%b)\n",
        "print(\"\\n\")\n",
        "print(a+b)\n",
        "print(a-b)\n",
        "print(a*b)\n",
        "print(a/b)\n",
        "print(a%b)\n",
        "print(a//b)\n",
        "print(a**b)\n",
        "print(\"\\n\")\n",
        "print(a>b)\n",
        "print(a<b)\n",
        "print(a==b)\n",
        "print(a!=b)\n",
        "print(a>=b)\n",
        "print(a<=b)\n",
        "print(\"\\n\")\n",
        "print(a&b)\n",
        "print(a|b)\n",
        "print(a^b)\n",
        "print(a>>2)\n",
        "print(a<<2)\n",
        "print(\"\\n\")\n",
        "print(a>b and a<b)\n",
        "print(a>b or a<b)\n",
        "print(not a>b)\n",
        "print(\"\\n\")\n",
        "print(a is b)\n",
        "print(a is not b)\n",
        "print(a==b)\n",
        "print(a!=b)\n",
        "print(a>=b)\n",
        "print(a<=b)\n",
        "print(\"\\n\")\n",
        "print(a>b and a<b)\n",
        "print(a>b or a<b)\n",
        "print(not a>b)\n",
        "print(\"\\n\")\n",
        "print(a is b)\n",
        "print(a is not b)\n",
        "\n",
        "\n"
      ],
      "metadata": {
        "colab": {
          "base_uri": "https://localhost:8080/"
        },
        "id": "8_lEjVh7kJ5C",
        "outputId": "3ad9bf42-726e-41b1-976d-4afbe3bdedaa"
      },
      "execution_count": null,
      "outputs": [
        {
          "output_type": "stream",
          "name": "stdout",
          "text": [
            "20\n",
            "14\n",
            "51\n",
            "5.666666666666667\n",
            "2\n",
            "\n",
            "\n",
            "20\n",
            "14\n",
            "51\n",
            "5.666666666666667\n",
            "2\n",
            "5\n",
            "4913\n",
            "\n",
            "\n",
            "True\n",
            "False\n",
            "False\n",
            "True\n",
            "True\n",
            "False\n",
            "\n",
            "\n",
            "1\n",
            "19\n",
            "18\n",
            "4\n",
            "68\n",
            "\n",
            "\n",
            "False\n",
            "True\n",
            "False\n",
            "\n",
            "\n",
            "False\n",
            "True\n",
            "False\n",
            "True\n",
            "True\n",
            "False\n",
            "\n",
            "\n",
            "False\n",
            "True\n",
            "False\n",
            "\n",
            "\n",
            "False\n",
            "True\n"
          ]
        }
      ]
    },
    {
      "cell_type": "code",
      "source": [],
      "metadata": {
        "id": "m91vQMDwlvU1"
      },
      "execution_count": null,
      "outputs": []
    },
    {
      "cell_type": "code",
      "source": [
        "a=10\n",
        "b=-a\n",
        "\n",
        "print(a)\n",
        "print(b)\n"
      ],
      "metadata": {
        "colab": {
          "base_uri": "https://localhost:8080/"
        },
        "id": "7wIzudtim5oI",
        "outputId": "d1de127d-4092-43a1-f208-835673315a27"
      },
      "execution_count": null,
      "outputs": [
        {
          "output_type": "stream",
          "name": "stdout",
          "text": [
            "10\n",
            "-10\n"
          ]
        }
      ]
    },
    {
      "cell_type": "code",
      "source": [
        "a=10\n",
        "b=5\n",
        "\n",
        "if((a>b) and (a==b)):\n",
        "  print(\"Success\")\n",
        "else:\n",
        "  print(\"Failure\")"
      ],
      "metadata": {
        "colab": {
          "base_uri": "https://localhost:8080/"
        },
        "id": "k0NLId10nAqT",
        "outputId": "14f5ec59-ced1-4cc5-bde6-758d8c304c96"
      },
      "execution_count": null,
      "outputs": [
        {
          "output_type": "stream",
          "name": "stdout",
          "text": [
            "Failure\n"
          ]
        }
      ]
    },
    {
      "cell_type": "markdown",
      "source": [
        "WAP to use input function. Take two inputs and ask user to perform which operation"
      ],
      "metadata": {
        "id": "XtCCPj3aump8"
      }
    },
    {
      "cell_type": "code",
      "source": [
        "n1=int(input(\"Enter the first no.:\"))\n",
        "n2=int(input(\"Enter the second no.:\"))\n",
        "\n",
        "print(\"Enter A for Addition\")\n",
        "print(\"Enter S for Subtraction\")\n",
        "print(\"Enter M for Multiplication\")\n",
        "print(\"Enter D for Division\")\n",
        "\n",
        "choice=input(\"Enter your choice:\")\n",
        "\n",
        "if(choice == 'A'):\n",
        "  print(n1+n2)\n",
        "elif(choice == 'S'):\n",
        "  print(n1-n2)\n",
        "elif(choice == 'M'):\n",
        "  print(n1*n2)\n",
        "elif(choice == 'D'):\n",
        "  print(n1/n2)\n",
        "else:\n",
        "  print(\"Invalid choice\")\n"
      ],
      "metadata": {
        "colab": {
          "base_uri": "https://localhost:8080/"
        },
        "id": "I9Ekak_svFXo",
        "outputId": "08c8c616-bd3c-4488-a5f8-ef31ad36dcd4"
      },
      "execution_count": null,
      "outputs": [
        {
          "output_type": "stream",
          "name": "stdout",
          "text": [
            "Enter the first no.:10\n",
            "Enter the second no.:20\n",
            "Enter A for Addition\n",
            "Enter S for Subtraction\n",
            "Enter M for Multiplication\n",
            "Enter D for Division\n",
            "Enter your choice:A\n",
            "30\n"
          ]
        }
      ]
    }
  ]
}