{
  "nbformat": 4,
  "nbformat_minor": 0,
  "metadata": {
    "colab": {
      "provenance": [],
      "authorship_tag": "ABX9TyMP0p3yQLsk8XMVw1Hjr5HF",
      "include_colab_link": true
    },
    "kernelspec": {
      "name": "python3",
      "display_name": "Python 3"
    },
    "language_info": {
      "name": "python"
    }
  },
  "cells": [
    {
      "cell_type": "markdown",
      "metadata": {
        "id": "view-in-github",
        "colab_type": "text"
      },
      "source": [
        "<a href=\"https://colab.research.google.com/github/Swastika-05/python-lab/blob/main/16_01_2025.ipynb\" target=\"_parent\"><img src=\"https://colab.research.google.com/assets/colab-badge.svg\" alt=\"Open In Colab\"/></a>"
      ]
    },
    {
      "cell_type": "markdown",
      "source": [
        "Control Statements\n",
        "\n",
        "\n",
        "1.   if\n",
        "2.   elif\n",
        "\n"
      ],
      "metadata": {
        "id": "2i3POFd7BxaZ"
      }
    },
    {
      "cell_type": "markdown",
      "source": [
        "if exp:\n",
        "  statements\n",
        "  .\n",
        "  .\n",
        "statements\n"
      ],
      "metadata": {
        "id": "08XWU8DxCVHH"
      }
    },
    {
      "cell_type": "code",
      "execution_count": null,
      "metadata": {
        "colab": {
          "base_uri": "https://localhost:8080/"
        },
        "id": "bIQHkFBmBrxB",
        "outputId": "a87815ff-5a91-48f4-9540-68f0a5fe71ec"
      },
      "outputs": [
        {
          "output_type": "stream",
          "name": "stdout",
          "text": [
            "Hello\n",
            "Done\n"
          ]
        }
      ],
      "source": [
        "x=10\n",
        "if x>0:\n",
        "  print(\"Hello\")\n",
        "  x=x+1\n",
        "print(\"Done\")"
      ]
    },
    {
      "cell_type": "code",
      "source": [
        "temp=float(input(\"Enter the temperature in Celcius: \"))\n",
        "if temp>=30:\n",
        "  print(\"It is a hot day.\")\n",
        "  print(\"Drink plenty of water.\")\n",
        "elif temp>=20 and temp<30:\n",
        "  print(\"It is a good day.\")\n",
        "elif temp>=10 and temp<20:\n",
        "  print(\"It is a bit colder .\")\n",
        "else:\n",
        "  print(\"Enjoy.\")"
      ],
      "metadata": {
        "colab": {
          "base_uri": "https://localhost:8080/"
        },
        "id": "Em75uFmBDR-6",
        "outputId": "16740734-e318-4006-81e6-b9522ecb5ada"
      },
      "execution_count": null,
      "outputs": [
        {
          "output_type": "stream",
          "name": "stdout",
          "text": [
            "Enter the temperature in Celcius: 29.9\n",
            "It is a good day.\n"
          ]
        }
      ]
    },
    {
      "cell_type": "code",
      "source": [
        "wt=float(input(\"Enter the weight: \"))\n",
        "unit=input(\"Enter the unit L for lbs and K for kg: \")\n",
        "\n",
        "if(unit=='L' or unit=='l'):\n",
        "  result=wt*0.453592\n",
        "  print(\"The weight in kg is: \"+str(result))  #  print(\"The weight in kg is: \", result)\n",
        "elif(unit=='K'or unit=='k'):\n",
        "  result=wt*2.20462\n",
        "  print(\"The weight in lbs is: \"+str(result)) #  print(\"The weight in lbs is: \", result)\n",
        "else:\n",
        "  print(\"Enter only the units mentioned.\")\n"
      ],
      "metadata": {
        "colab": {
          "base_uri": "https://localhost:8080/"
        },
        "id": "Ej9ZxN9YFrPx",
        "outputId": "3cefcc6f-737d-43e6-c0b2-79896500d36c"
      },
      "execution_count": null,
      "outputs": [
        {
          "output_type": "stream",
          "name": "stdout",
          "text": [
            "Enter the weight: 3\n",
            "Enter the unit L for lbs and K for kg: l\n",
            "The weight in kg is: 1.360776\n"
          ]
        }
      ]
    },
    {
      "cell_type": "markdown",
      "source": [
        "Guess game\n",
        "(Secret Number = 22)"
      ],
      "metadata": {
        "id": "VTgB0DjNJS3W"
      }
    },
    {
      "cell_type": "code",
      "source": [
        "n1=input(\"Enter the number for first guess: \")\n",
        "if(n1=='22'):\n",
        "  print(\"You have guessed the correct number.\")\n",
        "  print(\"Congratulations!\")\n",
        "n2=input(\"Enter the number for second guess: \")\n",
        "elif(n2=='22'):\n",
        "  print(\"You have guessed the correct number.\")\n",
        "  print(\"Congratulations!\")\n",
        "n3=input(\"Enter the number for second guess: \")\n",
        "elif(n3=='22'):\n",
        "  print(\"You have guessed the correct number.\")\n",
        "  print(\"Congratulations!\")\n",
        "else:\n",
        "  print(\"You have guessed the wrong number.\")\n",
        "  print(\"Better luck next time.\")"
      ],
      "metadata": {
        "colab": {
          "base_uri": "https://localhost:8080/",
          "height": 110
        },
        "id": "h8hphtL2JRqT",
        "outputId": "89907a1d-824a-4169-8153-afcb2645d453"
      },
      "execution_count": null,
      "outputs": [
        {
          "output_type": "error",
          "ename": "SyntaxError",
          "evalue": "invalid syntax (<ipython-input-11-02b911245fb7>, line 5)",
          "traceback": [
            "\u001b[0;36m  File \u001b[0;32m\"<ipython-input-11-02b911245fb7>\"\u001b[0;36m, line \u001b[0;32m5\u001b[0m\n\u001b[0;31m    elif:\u001b[0m\n\u001b[0m        ^\u001b[0m\n\u001b[0;31mSyntaxError\u001b[0m\u001b[0;31m:\u001b[0m invalid syntax\n"
          ]
        }
      ]
    }
  ]
}