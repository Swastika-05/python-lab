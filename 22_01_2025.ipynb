{
  "nbformat": 4,
  "nbformat_minor": 0,
  "metadata": {
    "colab": {
      "provenance": [],
      "authorship_tag": "ABX9TyMhFI0XVP4Mz6C3+1H3FEVF",
      "include_colab_link": true
    },
    "kernelspec": {
      "name": "python3",
      "display_name": "Python 3"
    },
    "language_info": {
      "name": "python"
    }
  },
  "cells": [
    {
      "cell_type": "markdown",
      "metadata": {
        "id": "view-in-github",
        "colab_type": "text"
      },
      "source": [
        "<a href=\"https://colab.research.google.com/github/Swastika-05/python-lab/blob/main/22_01_2025.ipynb\" target=\"_parent\"><img src=\"https://colab.research.google.com/assets/colab-badge.svg\" alt=\"Open In Colab\"/></a>"
      ]
    },
    {
      "cell_type": "markdown",
      "source": [
        "Loops:-\n",
        "\n",
        "1.while\n",
        "\n",
        "2.for\n",
        "\n",
        "3.do while\n",
        "\n",
        "\n",
        "while(condition):\n",
        "\n",
        "  statements\n"
      ],
      "metadata": {
        "id": "6SL7UOcTRfn0"
      }
    },
    {
      "cell_type": "code",
      "execution_count": 1,
      "metadata": {
        "colab": {
          "base_uri": "https://localhost:8080/"
        },
        "id": "Vqwfq-I3RRym",
        "outputId": "75e472fb-5269-4c89-b804-0de746638689"
      },
      "outputs": [
        {
          "output_type": "stream",
          "name": "stdout",
          "text": [
            "Enter a Guess: 2\n",
            "Try again\n",
            "Enter a Guess: 3\n",
            "Try again\n",
            "Enter a Guess: 12\n",
            "Try again\n",
            "Failed\n"
          ]
        }
      ],
      "source": [
        "sec_num = 14\n",
        "guess_count = 3\n",
        "counter = 0\n",
        "while counter<guess_count:\n",
        "  num = int(input(\"Enter a Guess: \"))\n",
        "  if num == sec_num:\n",
        "    print(\"Success\")\n",
        "    break\n",
        "  else:\n",
        "    counter=counter+1\n",
        "    print(\"Try again\")\n",
        "  if(counter==guess_count):\n",
        "    print(\"Failed\")"
      ]
    },
    {
      "cell_type": "markdown",
      "source": [
        "Car Game\n",
        "\n",
        "start to start the car\n",
        "\n",
        "stop to stop the car\n",
        "\n",
        "help to ask help\n",
        "\n",
        "quit to quit the car game\n",
        "\n",
        "while loop choice != quit:\n",
        "\n",
        "  choice = either start, stop or other options\n",
        "\n",
        "  if choice == start\n",
        "\n",
        "    print(\"Car Started\")\n",
        "\n",
        "  elif choice == stop:\n",
        "\n",
        "    print(\"Car Stopped\")\n",
        "\n",
        "  elif\n",
        "    print the menu\n",
        "\n",
        "  elif choice == quit\n",
        "\n",
        "  break\n",
        "  \n",
        "  else:\n",
        "\n",
        "    print(\"Game ended\")\n",
        "\n",
        "\n",
        "How to fix the following problems:\n",
        "\n",
        "Enter the input in Capital  (choice.lower())\n",
        "\n",
        "Entered input other than other than the mentioned ones\n",
        "\n",
        "two or more inputs entered consecutive times"
      ],
      "metadata": {
        "id": "GxR7-tfiYtPK"
      }
    },
    {
      "cell_type": "code",
      "source": [],
      "metadata": {
        "id": "J3uixP8fYVQy"
      },
      "execution_count": null,
      "outputs": []
    }
  ]
}