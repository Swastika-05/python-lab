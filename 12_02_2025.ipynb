{
  "nbformat": 4,
  "nbformat_minor": 0,
  "metadata": {
    "colab": {
      "provenance": [],
      "authorship_tag": "ABX9TyOlVZ5apRW5n69VLgyJr9fv",
      "include_colab_link": true
    },
    "kernelspec": {
      "name": "python3",
      "display_name": "Python 3"
    },
    "language_info": {
      "name": "python"
    }
  },
  "cells": [
    {
      "cell_type": "markdown",
      "metadata": {
        "id": "view-in-github",
        "colab_type": "text"
      },
      "source": [
        "<a href=\"https://colab.research.google.com/github/Swastika-05/python-lab/blob/main/12_02_2025.ipynb\" target=\"_parent\"><img src=\"https://colab.research.google.com/assets/colab-badge.svg\" alt=\"Open In Colab\"/></a>"
      ]
    },
    {
      "cell_type": "markdown",
      "source": [
        "Dictionary Comprehension"
      ],
      "metadata": {
        "id": "pGT-bYd6e8xo"
      }
    },
    {
      "cell_type": "code",
      "execution_count": null,
      "metadata": {
        "colab": {
          "base_uri": "https://localhost:8080/"
        },
        "id": "IZCrjSTre73x",
        "outputId": "4cbbbb78-1cc2-4b34-baba-9981838b0edd"
      },
      "outputs": [
        {
          "output_type": "stream",
          "name": "stdout",
          "text": [
            "{1: 'A', 2: 'B', 3: 'C', 4: 'D', 5: 'E'}\n"
          ]
        }
      ],
      "source": [
        "L1=[1,2,3,4,5]\n",
        "L2=['A','B','C','D','E']\n",
        "\n",
        "dict_1={K:V for (K,V) in zip(L1,L2)} #dict_1={K:V for K,V in zip(L1,L2)}\n",
        "print(dict_1)"
      ]
    },
    {
      "cell_type": "code",
      "source": [
        "my_str=\"welcometodictionary\"\n",
        "dict2={K:V.upper() for (K,V) in my_str}"
      ],
      "metadata": {
        "colab": {
          "base_uri": "https://localhost:8080/",
          "height": 238
        },
        "id": "4XoYLAFEf4xu",
        "outputId": "94b7573b-518a-440d-ba8b-372465af277c"
      },
      "execution_count": null,
      "outputs": [
        {
          "output_type": "error",
          "ename": "ValueError",
          "evalue": "not enough values to unpack (expected 2, got 1)",
          "traceback": [
            "\u001b[0;31m---------------------------------------------------------------------------\u001b[0m",
            "\u001b[0;31mValueError\u001b[0m                                Traceback (most recent call last)",
            "\u001b[0;32m<ipython-input-5-fc8672c774e4>\u001b[0m in \u001b[0;36m<cell line: 0>\u001b[0;34m()\u001b[0m\n\u001b[1;32m      1\u001b[0m \u001b[0mmy_str\u001b[0m\u001b[0;34m=\u001b[0m\u001b[0;34m\"welcometodictionary\"\u001b[0m\u001b[0;34m\u001b[0m\u001b[0;34m\u001b[0m\u001b[0m\n\u001b[0;32m----> 2\u001b[0;31m \u001b[0mdict2\u001b[0m\u001b[0;34m=\u001b[0m\u001b[0;34m{\u001b[0m\u001b[0mK\u001b[0m\u001b[0;34m:\u001b[0m\u001b[0mV\u001b[0m\u001b[0;34m.\u001b[0m\u001b[0mupper\u001b[0m\u001b[0;34m(\u001b[0m\u001b[0;34m)\u001b[0m \u001b[0;32mfor\u001b[0m \u001b[0;34m(\u001b[0m\u001b[0mK\u001b[0m\u001b[0;34m,\u001b[0m\u001b[0mV\u001b[0m\u001b[0;34m)\u001b[0m \u001b[0;32min\u001b[0m \u001b[0mmy_str\u001b[0m\u001b[0;34m}\u001b[0m\u001b[0;34m\u001b[0m\u001b[0;34m\u001b[0m\u001b[0m\n\u001b[0m",
            "\u001b[0;32m<ipython-input-5-fc8672c774e4>\u001b[0m in \u001b[0;36m<dictcomp>\u001b[0;34m(.0)\u001b[0m\n\u001b[1;32m      1\u001b[0m \u001b[0mmy_str\u001b[0m\u001b[0;34m=\u001b[0m\u001b[0;34m\"welcometodictionary\"\u001b[0m\u001b[0;34m\u001b[0m\u001b[0;34m\u001b[0m\u001b[0m\n\u001b[0;32m----> 2\u001b[0;31m \u001b[0mdict2\u001b[0m\u001b[0;34m=\u001b[0m\u001b[0;34m{\u001b[0m\u001b[0mK\u001b[0m\u001b[0;34m:\u001b[0m\u001b[0mV\u001b[0m\u001b[0;34m.\u001b[0m\u001b[0mupper\u001b[0m\u001b[0;34m(\u001b[0m\u001b[0;34m)\u001b[0m \u001b[0;32mfor\u001b[0m \u001b[0;34m(\u001b[0m\u001b[0mK\u001b[0m\u001b[0;34m,\u001b[0m\u001b[0mV\u001b[0m\u001b[0;34m)\u001b[0m \u001b[0;32min\u001b[0m \u001b[0mmy_str\u001b[0m\u001b[0;34m}\u001b[0m\u001b[0;34m\u001b[0m\u001b[0;34m\u001b[0m\u001b[0m\n\u001b[0m",
            "\u001b[0;31mValueError\u001b[0m: not enough values to unpack (expected 2, got 1)"
          ]
        }
      ]
    },
    {
      "cell_type": "code",
      "source": [
        "my_str=\"welcometodictionary\"\n",
        "dict2={K:V.upper() for (K,V) in enumerate(my_str)}"
      ],
      "metadata": {
        "id": "CCb7Xx2YgtEu"
      },
      "execution_count": 6,
      "outputs": []
    },
    {
      "cell_type": "markdown",
      "source": [
        "WAP to create emojis"
      ],
      "metadata": {
        "id": "TjcVrFPPhn0K"
      }
    },
    {
      "cell_type": "code",
      "source": [
        "dict_2={1:\"😀\",2:\"😞\"}\n",
        "emo=input(\"Enter 'Happy' if you are Happy and 'Sad' if you are Sad:\")\n",
        "if(emo=='Happy' or emo=='happy'):\n",
        "    print(\"I am feeling \",dict_2[1])\n",
        "elif(emo=='Sad' or emo=='sad'):\n",
        "    print(\"I am feeling \",dict_2[2])\n",
        "else:\n",
        "        print(\"Invalid Input\")"
      ],
      "metadata": {
        "colab": {
          "base_uri": "https://localhost:8080/"
        },
        "id": "efrWtPrAh-y6",
        "outputId": "d39442a6-5813-4101-fcaf-db54ce5ef319"
      },
      "execution_count": 13,
      "outputs": [
        {
          "output_type": "stream",
          "name": "stdout",
          "text": [
            "Enter 'Happy' if you are Happy and 'Sad' if you are Sad:happy\n",
            "I am feeling  😀\n"
          ]
        }
      ]
    },
    {
      "cell_type": "code",
      "source": [
        "dict_2={1:\"😀\",2:\"😞\"}\n",
        "emo=input(\"Enter 'I am feeling happy' if you are Happy and 'I am feeling sad' if you are Sad:\")\n",
        "if(emo=='I am feeling happy'):\n",
        "    print(dict_2[1])\n",
        "elif(emo=='I am feeling sad'):\n",
        "    print(dict_2[2])\n",
        "else:\n",
        "        print(\"Invalid Input\")"
      ],
      "metadata": {
        "colab": {
          "base_uri": "https://localhost:8080/"
        },
        "id": "UQcRhwEelK62",
        "outputId": "5e42ca58-6bad-4b74-943a-5a31fc375bf7"
      },
      "execution_count": 16,
      "outputs": [
        {
          "output_type": "stream",
          "name": "stdout",
          "text": [
            "Enter 'I am feeling happy' if you are Happy and 'I am feeling sad' if you are Sad:I am feeling happy\n",
            "😀\n"
          ]
        }
      ]
    }
  ]
}