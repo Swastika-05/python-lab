{
  "nbformat": 4,
  "nbformat_minor": 0,
  "metadata": {
    "colab": {
      "provenance": [],
      "authorship_tag": "ABX9TyPVhEIzRfAlarMYdlAxZDJs",
      "include_colab_link": true
    },
    "kernelspec": {
      "name": "python3",
      "display_name": "Python 3"
    },
    "language_info": {
      "name": "python"
    }
  },
  "cells": [
    {
      "cell_type": "markdown",
      "metadata": {
        "id": "view-in-github",
        "colab_type": "text"
      },
      "source": [
        "<a href=\"https://colab.research.google.com/github/Swastika-05/python-lab/blob/main/19_02_2025.ipynb\" target=\"_parent\"><img src=\"https://colab.research.google.com/assets/colab-badge.svg\" alt=\"Open In Colab\"/></a>"
      ]
    },
    {
      "cell_type": "markdown",
      "source": [
        "Functions\n",
        "\n",
        "Organised, well written, modular code to perform a task\n",
        "\n",
        "Predefined functions\n",
        "\n",
        "User defined functions\n",
        "\n",
        "Anonymous function  (lambda function)"
      ],
      "metadata": {
        "id": "tJgeRfAAgo2h"
      }
    },
    {
      "cell_type": "code",
      "execution_count": 1,
      "metadata": {
        "colab": {
          "base_uri": "https://localhost:8080/"
        },
        "id": "RvQEeqvegeDD",
        "outputId": "04fe4a42-845a-413a-8a49-5b739fbfee62"
      },
      "outputs": [
        {
          "output_type": "stream",
          "name": "stdout",
          "text": [
            "100\n"
          ]
        }
      ],
      "source": [
        "def fun(n):\n",
        "  n=n*n\n",
        "  print(n)\n",
        "\n",
        "fun(10)"
      ]
    },
    {
      "cell_type": "code",
      "source": [
        "def fun(a,b):\n",
        "  num=a*b\n",
        "  print(num)\n",
        "\n",
        "fun(10,3)"
      ],
      "metadata": {
        "colab": {
          "base_uri": "https://localhost:8080/"
        },
        "id": "bYq7rINNiynl",
        "outputId": "305f84f3-70a8-4f66-81dc-bdf2c0fa7358"
      },
      "execution_count": 2,
      "outputs": [
        {
          "output_type": "stream",
          "name": "stdout",
          "text": [
            "30\n"
          ]
        }
      ]
    },
    {
      "cell_type": "markdown",
      "source": [
        "Write a function to check whether a no. is even or odd\n"
      ],
      "metadata": {
        "id": "7x3HzE5IjtbA"
      }
    },
    {
      "cell_type": "code",
      "source": [
        "def fun (n):\n",
        "  if n%2==0:\n",
        "    print(\"Even\")\n",
        "  else:\n",
        "    print(\"Odd\")\n",
        "\n",
        "num=int(input(\"Enter the number:\"))\n",
        "fun(num)"
      ],
      "metadata": {
        "colab": {
          "base_uri": "https://localhost:8080/"
        },
        "id": "VPgQUKu7j2xR",
        "outputId": "49ecf9da-6ab9-4395-941b-121406235a24"
      },
      "execution_count": 5,
      "outputs": [
        {
          "output_type": "stream",
          "name": "stdout",
          "text": [
            "Enter the number:34\n",
            "Even\n"
          ]
        }
      ]
    },
    {
      "cell_type": "code",
      "source": [
        "var1=100\n",
        "\n",
        "def fn1():\n",
        "  print(var1)\n",
        "\n",
        "def fn2():\n",
        "  var1=20\n",
        "  print(var1)\n",
        "\n",
        "fn2()\n",
        "print(var1)"
      ],
      "metadata": {
        "colab": {
          "base_uri": "https://localhost:8080/"
        },
        "id": "xKE7Asrnlx5R",
        "outputId": "e7aabaf1-2f1d-4ee3-83b0-b98ff5a9c781"
      },
      "execution_count": 8,
      "outputs": [
        {
          "output_type": "stream",
          "name": "stdout",
          "text": [
            "20\n",
            "100\n"
          ]
        }
      ]
    },
    {
      "cell_type": "markdown",
      "source": [
        "Function to add two numbers."
      ],
      "metadata": {
        "id": "pO5Nk8LpnVNr"
      }
    },
    {
      "cell_type": "code",
      "source": [
        "def add(a,b):\n",
        "  \"\"\"This function adds two numbers.\"\"\"\n",
        "  c=a+b\n",
        "  return c\n",
        "print(add(2,5))\n",
        "print(add.__doc__)"
      ],
      "metadata": {
        "colab": {
          "base_uri": "https://localhost:8080/"
        },
        "id": "X4B_m8JQnZmL",
        "outputId": "e0ac7d11-7a81-47df-8382-bf4978619b53"
      },
      "execution_count": 11,
      "outputs": [
        {
          "output_type": "stream",
          "name": "stdout",
          "text": [
            "7\n",
            "This function adds two numbers.\n"
          ]
        }
      ]
    }
  ]
}