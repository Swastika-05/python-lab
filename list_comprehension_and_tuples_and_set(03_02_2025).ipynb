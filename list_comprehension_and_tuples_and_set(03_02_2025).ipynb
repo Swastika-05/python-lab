{
  "nbformat": 4,
  "nbformat_minor": 0,
  "metadata": {
    "colab": {
      "provenance": [],
      "authorship_tag": "ABX9TyPV3mgen6B1wtW30EKr6Io7",
      "include_colab_link": true
    },
    "kernelspec": {
      "name": "python3",
      "display_name": "Python 3"
    },
    "language_info": {
      "name": "python"
    }
  },
  "cells": [
    {
      "cell_type": "markdown",
      "metadata": {
        "id": "view-in-github",
        "colab_type": "text"
      },
      "source": [
        "<a href=\"https://colab.research.google.com/github/Swastika-05/python-lab/blob/main/list_comprehension_and_tuples_and_set(03_02_2025).ipynb\" target=\"_parent\"><img src=\"https://colab.research.google.com/assets/colab-badge.svg\" alt=\"Open In Colab\"/></a>"
      ]
    },
    {
      "cell_type": "markdown",
      "source": [
        "List Comprehension"
      ],
      "metadata": {
        "id": "UwRVaUCIsery"
      }
    },
    {
      "cell_type": "code",
      "execution_count": 4,
      "metadata": {
        "colab": {
          "base_uri": "https://localhost:8080/"
        },
        "id": "hbYwwbmrsbzs",
        "outputId": "8c3c2f21-1de9-4d79-8f73-55f8daa4be89"
      },
      "outputs": [
        {
          "output_type": "stream",
          "name": "stdout",
          "text": [
            "[0, 1, 2, 3, 4, 5, 6, 7, 8, 9, 10]\n"
          ]
        }
      ],
      "source": [
        "l1=[]\n",
        "for i in range(11):\n",
        "  l1.append(i)\n",
        "print(l1)"
      ]
    },
    {
      "cell_type": "code",
      "source": [
        "l1=[i for i in range (11)]\n",
        "print(l1)"
      ],
      "metadata": {
        "colab": {
          "base_uri": "https://localhost:8080/"
        },
        "id": "tVdNKSRetIHe",
        "outputId": "98088907-498d-4122-93a4-5a7a37ce01ad"
      },
      "execution_count": 3,
      "outputs": [
        {
          "output_type": "stream",
          "name": "stdout",
          "text": [
            "[0, 1, 2, 3, 4, 5, 6, 7, 8, 9, 10]\n"
          ]
        }
      ]
    },
    {
      "cell_type": "code",
      "source": [
        "for i in range(20):\n",
        "  if i%2==0:\n",
        "    l1.append(i)"
      ],
      "metadata": {
        "id": "hMKawE2DthWH"
      },
      "execution_count": 11,
      "outputs": []
    },
    {
      "cell_type": "code",
      "source": [
        "l1=[i for i in range(20) if i%2==0]\n",
        "print(l1)"
      ],
      "metadata": {
        "id": "TrvtMXQBulmq"
      },
      "execution_count": null,
      "outputs": []
    },
    {
      "cell_type": "markdown",
      "source": [
        "insert prime nos in a list using list comprehension"
      ],
      "metadata": {
        "id": "Gbi9lcLOuYiL"
      }
    },
    {
      "cell_type": "code",
      "source": [
        "l1=[i for i in range (20)]\n"
      ],
      "metadata": {
        "id": "wYNX5ILNuuOJ"
      },
      "execution_count": null,
      "outputs": []
    },
    {
      "cell_type": "markdown",
      "source": [
        "insert squares of nos btw 10 to 20"
      ],
      "metadata": {
        "id": "HAI50u2uv3LS"
      }
    },
    {
      "cell_type": "markdown",
      "source": [
        "(start index, end index, step size)"
      ],
      "metadata": {
        "id": "L91_7mMbwLWt"
      }
    },
    {
      "cell_type": "code",
      "source": [
        "l1=[]\n",
        "for i in range(1,10):\n",
        "  l1.append(i**2)\n",
        "print(l1)"
      ],
      "metadata": {
        "colab": {
          "base_uri": "https://localhost:8080/"
        },
        "id": "7_8lkVMmv-k3",
        "outputId": "3c51ddb8-71e9-43fc-8e35-06c15a7f8c7d"
      },
      "execution_count": 14,
      "outputs": [
        {
          "output_type": "stream",
          "name": "stdout",
          "text": [
            "[1, 4, 9, 16, 25, 36, 49, 64, 81]\n"
          ]
        }
      ]
    },
    {
      "cell_type": "code",
      "source": [
        "l1=[i**2 for i in range(1,10)]\n",
        "print(l1)"
      ],
      "metadata": {
        "colab": {
          "base_uri": "https://localhost:8080/"
        },
        "id": "Emz-2Mabws1C",
        "outputId": "eb240f95-cf41-4359-aa72-ccb767ffaafe"
      },
      "execution_count": 16,
      "outputs": [
        {
          "output_type": "stream",
          "name": "stdout",
          "text": [
            "[1, 4, 9, 16, 25, 36, 49, 64, 81]\n"
          ]
        }
      ]
    },
    {
      "cell_type": "markdown",
      "source": [
        "insert nos divisible by 3 and 5 and 7"
      ],
      "metadata": {
        "id": "fJWKfDRQxTwu"
      }
    },
    {
      "cell_type": "code",
      "source": [
        "l1=[]\n",
        "for i in range(1000):\n",
        "  if i%3==0 and i%5==0 and i%7==0:\n",
        "    l1.append(i)\n",
        "print(l1)"
      ],
      "metadata": {
        "colab": {
          "base_uri": "https://localhost:8080/"
        },
        "id": "gK4zYswcxdDA",
        "outputId": "cb238dfe-bbca-452b-a829-651a144bdb1a"
      },
      "execution_count": 18,
      "outputs": [
        {
          "output_type": "stream",
          "name": "stdout",
          "text": [
            "[0, 105, 210, 315, 420, 525, 630, 735, 840, 945]\n"
          ]
        }
      ]
    },
    {
      "cell_type": "code",
      "source": [
        "l1=[i for i in range(1000) if i%3==0 and i%5==0 and i%7==0]\n",
        "print(l1)"
      ],
      "metadata": {
        "colab": {
          "base_uri": "https://localhost:8080/"
        },
        "id": "3p6ftzq5yHvt",
        "outputId": "3605c808-a9d9-4d1a-f8b4-2a038caae82d"
      },
      "execution_count": 20,
      "outputs": [
        {
          "output_type": "stream",
          "name": "stdout",
          "text": [
            "[0, 105, 210, 315, 420, 525, 630, 735, 840, 945]\n"
          ]
        }
      ]
    },
    {
      "cell_type": "markdown",
      "source": [
        "insert nos divisible by 3,5,7"
      ],
      "metadata": {
        "id": "ZTcq6EQ3ywyc"
      }
    },
    {
      "cell_type": "code",
      "source": [
        "l1=[i for i in range(1000) if i%3==0 if i%5==0 if i%7==0]\n",
        "print(l1)"
      ],
      "metadata": {
        "colab": {
          "base_uri": "https://localhost:8080/"
        },
        "id": "p_DdLrXyyr0D",
        "outputId": "fd7c34cb-cc81-4e1d-bb29-c8574c3422f0"
      },
      "execution_count": 22,
      "outputs": [
        {
          "output_type": "stream",
          "name": "stdout",
          "text": [
            "[0, 105, 210, 315, 420, 525, 630, 735, 840, 945]\n"
          ]
        }
      ]
    },
    {
      "cell_type": "markdown",
      "source": [
        "TUPLE\n"
      ],
      "metadata": {
        "id": "19weWBkRzh7t"
      }
    },
    {
      "cell_type": "code",
      "source": [
        "T1=(1,2,3,4,5,6,7,8)\n",
        "T2=(\"One\",'Two',\"Three\",\"Four\",'Five',(5,8),('four','seven'))\n",
        "T3=(1,'one',6,7.5,'Swastika')\n",
        "\n",
        "T1[:]\n",
        "T1[2:]\n",
        "T1[-2:]\n",
        "T1[:-1]\n",
        "T1[-1]\n",
        "T1[::-1]\n",
        "T1[1:8:2]\n",
        "T1[1:8:]\n",
        "T1[::]\n",
        "T1[::-1]\n",
        "T4=T1+T2\n",
        "T4\n",
        "T2[0][0]"
      ],
      "metadata": {
        "colab": {
          "base_uri": "https://localhost:8080/",
          "height": 36
        },
        "id": "Nvl0yFyLzhiu",
        "outputId": "26f3f710-02a0-4095-f784-5e7b965f3b3b"
      },
      "execution_count": 45,
      "outputs": [
        {
          "output_type": "execute_result",
          "data": {
            "text/plain": [
              "'O'"
            ],
            "application/vnd.google.colaboratory.intrinsic+json": {
              "type": "string"
            }
          },
          "metadata": {},
          "execution_count": 45
        }
      ]
    },
    {
      "cell_type": "markdown",
      "source": [
        "Set\n",
        "\n",
        "Immutable\n",
        "\n",
        "Cannot have duplicate values (list can have duplicate values)"
      ],
      "metadata": {
        "id": "_W4go9BV4gKa"
      }
    },
    {
      "cell_type": "code",
      "source": [
        "S1={5,6,10,('A','B','C'),7.5}\n",
        "S1"
      ],
      "metadata": {
        "colab": {
          "base_uri": "https://localhost:8080/"
        },
        "id": "ufFFB0mg4jVf",
        "outputId": "15cdab70-ac43-4942-c2cc-21846d856633"
      },
      "execution_count": 47,
      "outputs": [
        {
          "output_type": "execute_result",
          "data": {
            "text/plain": [
              "{('A', 'B', 'C'), 10, 5, 6, 7.5}"
            ]
          },
          "metadata": {},
          "execution_count": 47
        }
      ]
    },
    {
      "cell_type": "markdown",
      "source": [
        "WAP using list comprehension to print armstrong numbers btw 100 and 10000"
      ],
      "metadata": {
        "id": "hDik-vKX5km7"
      }
    },
    {
      "cell_type": "code",
      "source": [
        "l1=[i for i in range(100,10000) if sum([int(j)**len(str(i)) for j in str(i)])==i]\n",
        "print(l1)"
      ],
      "metadata": {
        "colab": {
          "base_uri": "https://localhost:8080/"
        },
        "id": "eM8stpog56Gr",
        "outputId": "243ab364-59f1-4e60-bd80-30a7454cc9fb"
      },
      "execution_count": 49,
      "outputs": [
        {
          "output_type": "stream",
          "name": "stdout",
          "text": [
            "[153, 370, 371, 407, 1634, 8208, 9474]\n"
          ]
        }
      ]
    }
  ]
}